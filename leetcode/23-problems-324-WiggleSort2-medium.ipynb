{
 "cells": [
  {
   "cell_type": "code",
   "execution_count": null,
   "metadata": {},
   "outputs": [
    {
     "name": "stdout",
     "output_type": "stream",
     "text": [
      "들어옴? 0 4\n",
      "[4, 5]\n",
      "들어옴? 1 5\n",
      "[4, 5, 4, 5]\n",
      "들어옴? 2 6\n",
      "[4, 5, 4, 5, 4, 5]\n",
      "들어옴? 3 7\n",
      "[4, 5, 4, 5, 4, 5, 4]\n",
      "[4, 5, 4, 5, 4, 5, 4]\n",
      "[4, 5, 4, 5, 4, 5, 4]\n"
     ]
    }
   ],
   "source": [
    "import math\n",
    "from typing import List\n",
    "\n",
    "\n",
    "class Solution:\n",
    "    def wiggleSort(self, nums: List[int]) -> None:\n",
    "        \"\"\"\n",
    "        Do not return anything, modify nums in-place instead.\n",
    "        \"\"\"\n",
    "\n",
    "        # 못 풀어서 다른 사람의 풀이를 살펴 보았다.\n",
    "        # 어렵다... ->  0 <= nums[i] <= 5000    이 조건에 의해 counting sort를 사용할 수 있다.\n",
    "\n",
    "\n",
    "        # 기본 정렬을 이용해서 푼다. O(n Log n) 풀이 방법\n",
    "        # counting sort를 이용하면 O(n)이 가능하다.\n",
    "        nums.sort()\n",
    "\n",
    "        # 정렬된 nums를 반으로 나눌 건데, 작은 쪽이 더 많은 개수를 가져야 한다. 7개 -> 4개(왼쪽)/3개(오른쪽), 8개 -> 4개(왼쪽)/4개(오른쪽)\n",
    "        half = int(math.ceil(len(nums) / 2))\n",
    "\n",
    "        smaller = nums[:half][::-1]\n",
    "        bigger = nums[half:][::-1]\n",
    "\n",
    "        # 오름차순으로 배치하면 커버할 수 있는 같은 값들의 개수가 줄어 든다.\n",
    "        # 예를 들어 왼쪽 half랑 오른쪽 half 각각을 내림차순으로 배치하면 같은 값의 개수가 floor(n/2)개까지 커버되는데\n",
    "        # 오름차순으로 배치하면 n이 홀수일 때 floor(n/2)개 이고 n이 짝수일 때 n/2 - 1개이다.\n",
    "\n",
    "        # 예를 들어,\n",
    "        # ---------------------------------------\n",
    "        # N == len(nums)    | 내림차순 | 오름차순 |\n",
    "        # 6                 |    3    |    2    |\n",
    "        # 7                 |    3    |    3    |\n",
    "        # ---------------------------------------\n",
    "\n",
    "        # 이 문제는 내림차순으로 배치해야 풀 수 있다.\n",
    "        for i in range(len(nums)):\n",
    "            if i % 2 == 0:\n",
    "                v = smaller[i // 2]\n",
    "                nums[i] = v\n",
    "            else:\n",
    "                v = bigger[i // 2]\n",
    "                nums[i] = v\n",
    "        \n",
    "        \n",
    "        \n",
    "\"\"\"\n",
    "\n",
    "푸는 게 힘들었다. 혼자 고민을 해보다가 모르겠어서 topic을 바탕으로 아이디어를 얻으려고 했는데\n",
    "topic에 greedy가 나와 있는 게 혼란을 주었다. greedy랑 별 상관 없다...\n",
    "\n",
    "댓글만 보고 풀어보려고 시도하다가 여전히 실패해서 다른 사람의 solution을 보고 공부했다.\n",
    "\n",
    "\"\"\""
   ]
  }
 ],
 "metadata": {
  "language_info": {
   "name": "python"
  }
 },
 "nbformat": 4,
 "nbformat_minor": 2
}
