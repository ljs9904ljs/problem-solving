{
 "cells": [
  {
   "cell_type": "code",
   "execution_count": null,
   "metadata": {},
   "outputs": [],
   "source": [
    "from math import factorial\n",
    "\n",
    "class Solution:\n",
    "    def uniquePaths(self, m: int, n: int) -> int:\n",
    "        \n",
    "        # 경우의 수 계산하면 된다. 같은 것이 있는 순열 (permutations of multisets)\n",
    "\n",
    "        bc = m - 1\n",
    "        rc = n - 1\n",
    "        \n",
    "        # (bc + rc)! / (bc! * rc!)\n",
    "\n",
    "        return factorial(bc + rc) // factorial(bc) // factorial(rc)\n",
    "    \n",
    "\n",
    "\"\"\"\n",
    "수학을 이용하면 너무도 간단하게 풀 수 있는 문제였는데,\n",
    "다른 사람들의 답안을 보니 DP를 이용해서 푼 게 있었다.\n",
    "그래서 DP라는 아이디어를 가지고 다시 한 번 풀어봐야 한다.\n",
    "\n",
    "\"\"\""
   ]
  }
 ],
 "metadata": {
  "language_info": {
   "name": "python"
  }
 },
 "nbformat": 4,
 "nbformat_minor": 2
}
