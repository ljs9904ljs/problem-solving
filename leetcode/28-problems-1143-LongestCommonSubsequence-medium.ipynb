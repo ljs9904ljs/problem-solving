{
 "cells": [
  {
   "cell_type": "code",
   "execution_count": null,
   "metadata": {},
   "outputs": [
    {
     "data": {
      "text/plain": [
       "''"
      ]
     },
     "execution_count": 1,
     "metadata": {},
     "output_type": "execute_result"
    }
   ],
   "source": [
    "class Solution:\n",
    "    def longestCommonSubsequence(self, text1: str, text2: str) -> int:\n",
    "        \n",
    "        \n",
    "        # dp[i][j] := text1의 i(0부터)번째 글자까지 살피고, text2의 j(0부터)번째 글자까지 살폈을 때 LCS 길이 값.\n",
    "        # dp[i][j] = dp[i-1][j-1] + [ text1[i] == text2[j] ]\n",
    "\n",
    "        dp = [ [0] * (len(text2) + 1) for _ in range(len(text1) + 1) ]\n",
    "\n",
    "        for i in range(len(text1) + 1):\n",
    "            for j in range(len(text2) + 1):\n",
    "                if i == 0 or j == 0:\n",
    "                    dp[i][j] = 0\n",
    "                elif text1[i-1] == text2[j-1]:\n",
    "                    dp[i][j] = dp[i-1][j-1] + 1\n",
    "                else:\n",
    "                    # TODO:\n",
    "                    dp[i][j] = max(dp[i-1][j], dp[i][j-1])\n",
    "        \n",
    "        return dp[len(text1)][len(text2)]\n",
    "\n",
    "\n",
    "\"\"\"\n",
    "점화식에서 아래 파트가 이해가 잘 안 된다...\n",
    "내일 다시 살펴봐야겠다.\n",
    "dp[i][j] = max(dp[i-1][j], dp[i][j-1])\n",
    "\n",
    "\n",
    "\"\"\""
   ]
  }
 ],
 "metadata": {
  "kernelspec": {
   "display_name": "base",
   "language": "python",
   "name": "python3"
  },
  "language_info": {
   "codemirror_mode": {
    "name": "ipython",
    "version": 3
   },
   "file_extension": ".py",
   "mimetype": "text/x-python",
   "name": "python",
   "nbconvert_exporter": "python",
   "pygments_lexer": "ipython3",
   "version": "3.9.13"
  }
 },
 "nbformat": 4,
 "nbformat_minor": 2
}
