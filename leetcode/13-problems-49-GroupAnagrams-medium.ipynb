{
 "cells": [
  {
   "cell_type": "code",
   "execution_count": null,
   "metadata": {},
   "outputs": [],
   "source": [
    "from typing import List\n",
    "\n",
    "class Solution:\n",
    "    def groupAnagrams(self, strs: List[str]) -> List[List[str]]:\n",
    "\n",
    "\n",
    "        result = dict()\n",
    "\n",
    "        for s in strs:\n",
    "            k = \"\".join(sorted(s))\n",
    "            if k not in result:\n",
    "                result[k] = []\n",
    "            result[k].append(s)\n",
    "            \n",
    "        ret = []\n",
    "        for k in result:\n",
    "            ret.append(result[k])\n",
    "        \n",
    "        return ret\n",
    "\n",
    "\n",
    "\n",
    "# 스트링을 사전 순으로 정렬한 형태로 변환 -> dictionary의 key로 사용함으로써 anagram이 같은 것들을 모을 수 있었음."
   ]
  }
 ],
 "metadata": {
  "language_info": {
   "name": "python"
  }
 },
 "nbformat": 4,
 "nbformat_minor": 2
}
