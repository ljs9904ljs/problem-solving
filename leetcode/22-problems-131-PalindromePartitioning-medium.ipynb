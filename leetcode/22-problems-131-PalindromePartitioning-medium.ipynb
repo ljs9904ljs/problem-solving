{
 "cells": [
  {
   "cell_type": "code",
   "execution_count": null,
   "metadata": {},
   "outputs": [
    {
     "name": "stdout",
     "output_type": "stream",
     "text": [
      "['aa', 'b', 'cc', 'a', 'ccc']\n",
      "True\n"
     ]
    }
   ],
   "source": [
    "from typing import List\n",
    "from functools import cache\n",
    "\n",
    "class Solution:\n",
    "\n",
    "    @cache\n",
    "    def partition(self, s: str) -> List[List[str]]:\n",
    "        \n",
    "        if len(s) == 0:\n",
    "            return [[]]\n",
    "\n",
    "        result = []\n",
    "        for l in range(1, len(s) + 1):\n",
    "            # divide the string s into s[:l] and s[l:] (NOTE: s[:l] is a string which length is 'l')\n",
    "            if s[:l] == s[:l][::-1]:  # check if the substring s[:l] is palindrome or not.\n",
    "                for parts in self.partition(s[l:]):\n",
    "                    result.append([s[:l]] + parts)\n",
    "        return result\n",
    "\n",
    "\n",
    "\n",
    "\"\"\"\n",
    "한참을 메달렸으나 혼자서 못 풀어서 solution을 보고 이해해서 다시 작성했음.\n",
    "\n",
    "palindrome을 체크하는 경우를 substirng의 길이를 기준으로 쪼갠다는 아이디어가 사용되었다.\n",
    "\n",
    "\n",
    "어렵다...\n",
    "\n",
    "\n",
    "\"\"\""
   ]
  }
 ],
 "metadata": {
  "language_info": {
   "name": "python"
  }
 },
 "nbformat": 4,
 "nbformat_minor": 2
}
