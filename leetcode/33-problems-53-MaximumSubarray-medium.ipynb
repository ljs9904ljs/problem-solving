{
 "cells": [
  {
   "cell_type": "code",
   "execution_count": null,
   "metadata": {},
   "outputs": [],
   "source": [
    "from typing import List\n",
    "\n",
    "\n",
    "class Solution:\n",
    "    def maxSubArray(self, nums: List[int]) -> int:\n",
    "\n",
    "        # Kadane's Algorithm\n",
    "\n",
    "        global_max = nums[0]\n",
    "        local_max = nums[0]\n",
    "        \n",
    "        for i in range(1, len(nums)):\n",
    "            local_max = max(nums[i], local_max + nums[i])\n",
    "            global_max = max(local_max, global_max)\n",
    "\n",
    "        return global_max\n",
    "            \n",
    "\n"
   ]
  }
 ],
 "metadata": {
  "kernelspec": {
   "display_name": "base",
   "language": "python",
   "name": "python3"
  },
  "language_info": {
   "name": "python",
   "version": "3.9.13"
  }
 },
 "nbformat": 4,
 "nbformat_minor": 2
}
