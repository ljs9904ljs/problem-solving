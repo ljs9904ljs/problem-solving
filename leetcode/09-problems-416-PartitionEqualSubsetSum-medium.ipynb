{
 "cells": [
  {
   "cell_type": "code",
   "execution_count": 51,
   "metadata": {},
   "outputs": [
    {
     "name": "stdout",
     "output_type": "stream",
     "text": [
      "[1, 4, 5, 8, 12, 13, 14, 17, 18]\n"
     ]
    }
   ],
   "source": [
    "tc = [\n",
    "    [1, 4, 5, 8, 12, 13, 14, 17, 18],\n",
    "    [1, 5, 6, 10]\n",
    "]\n",
    "\n",
    "a = [14,17,13,18,1,12,5,8,4]\n",
    "a.sort()\n",
    "print(a)"
   ]
  },
  {
   "cell_type": "code",
   "execution_count": 52,
   "metadata": {},
   "outputs": [
    {
     "data": {
      "text/plain": [
       "'\\n@@@ 틀린 답이지만 기록을 위해 남겨 둔다.\\n\\n\\n\\n\\nfrom typing import List\\nfrom bisect import bisect_left, bisect_right\\n\\nclass Solution:\\n    def canPartition(self, nums: List[int]) -> bool:\\n        \\n\\n        # K랑 같은 값을 2개 만들 수 있으면 2개의 subsets으로 쪼갤 수 있는 것 아닌가?\\n        # array 전체의 합 / 2 == K 로 세팅하면 되지 않나? \\n        # array 전체의 합이 2로 나누어 떨어지지 않으면 애초에 2개의 같은 합계 그룹으로 나눌 수 없는 것이다!\\n\\n        total = sum(nums)\\n        if total % 2 == 1:\\n            return False\\n\\n        T = total // 2\\n\\n        nums.sort()\\n\\n        memo = [None] * (200 * 100 + 1)\\n        def dp(n, used):\\n            if memo[n] is not None:\\n                return memo[n]\\n            \\n            if n == 0:\\n                memo[n] = True\\n                return True\\n            \\n            if n < 0:\\n                return False\\n            \\n            if 0 in used and 2 in used and 3 in used and 6 in used:\\n                print(\"\\t\", used)\\n\\n            idx = bisect_right(nums, n)\\n            if (idx - 1 not in used) and nums[idx - 1] == n:\\n                memo[n] = True\\n                return True\\n\\n            for i in range(0, idx):\\n                if i in used:\\n                    continue\\n                \\n                sub_dp = dp(n - nums[i], used + [i])\\n                if sub_dp:\\n                    memo[n] = True\\n                    return True\\n                else:\\n                    memo[n] = False\\n\\n            memo[n] = False\\n            return False\\n        \\n        # result = dp(T, [])\\n        # print(memo[0:12])\\n        result = dp(5, [0, 1])\\n        print(memo[:6])\\n\\n        return result\\n\\ns = Solution()\\nprint(s.canPartition(tc[1]))\\n\\n# (0, 2, 3, 6, 8)\\n\\n\\n'"
      ]
     },
     "execution_count": 52,
     "metadata": {},
     "output_type": "execute_result"
    }
   ],
   "source": [
    "\"\"\"\n",
    "@@@ 틀린 답이지만 기록을 위해 남겨 둔다.\n",
    "\n",
    "\n",
    "\n",
    "\n",
    "from typing import List\n",
    "from bisect import bisect_left, bisect_right\n",
    "\n",
    "class Solution:\n",
    "    def canPartition(self, nums: List[int]) -> bool:\n",
    "        \n",
    "\n",
    "        # K랑 같은 값을 2개 만들 수 있으면 2개의 subsets으로 쪼갤 수 있는 것 아닌가?\n",
    "        # array 전체의 합 / 2 == K 로 세팅하면 되지 않나? \n",
    "        # array 전체의 합이 2로 나누어 떨어지지 않으면 애초에 2개의 같은 합계 그룹으로 나눌 수 없는 것이다!\n",
    "\n",
    "        total = sum(nums)\n",
    "        if total % 2 == 1:\n",
    "            return False\n",
    "\n",
    "        T = total // 2\n",
    "\n",
    "        nums.sort()\n",
    "\n",
    "        memo = [None] * (200 * 100 + 1)\n",
    "        def dp(n, used):\n",
    "            if memo[n] is not None:\n",
    "                return memo[n]\n",
    "            \n",
    "            if n == 0:\n",
    "                memo[n] = True\n",
    "                return True\n",
    "            \n",
    "            if n < 0:\n",
    "                return False\n",
    "            \n",
    "            if 0 in used and 2 in used and 3 in used and 6 in used:\n",
    "                print(\"\\t\", used)\n",
    "\n",
    "            idx = bisect_right(nums, n)\n",
    "            if (idx - 1 not in used) and nums[idx - 1] == n:\n",
    "                memo[n] = True\n",
    "                return True\n",
    "\n",
    "            for i in range(0, idx):\n",
    "                if i in used:\n",
    "                    continue\n",
    "                \n",
    "                sub_dp = dp(n - nums[i], used + [i])\n",
    "                if sub_dp:\n",
    "                    memo[n] = True\n",
    "                    return True\n",
    "                else:\n",
    "                    memo[n] = False\n",
    "\n",
    "            memo[n] = False\n",
    "            return False\n",
    "        \n",
    "        # result = dp(T, [])\n",
    "        # print(memo[0:12])\n",
    "        result = dp(5, [0, 1])\n",
    "        print(memo[:6])\n",
    "\n",
    "        return result\n",
    "\n",
    "s = Solution()\n",
    "print(s.canPartition(tc[1]))\n",
    "\n",
    "# (0, 2, 3, 6, 8)\n",
    "\n",
    "\n",
    "\"\"\""
   ]
  },
  {
   "cell_type": "code",
   "execution_count": 54,
   "metadata": {},
   "outputs": [
    {
     "name": "stdout",
     "output_type": "stream",
     "text": [
      "True\n"
     ]
    }
   ],
   "source": [
    "from typing import List\n",
    "from functools import cache\n",
    "\n",
    "class Solution:\n",
    "    def canPartition(self, nums: List[int]) -> bool:\n",
    "        s = sum(nums)\n",
    "        if s&1:\n",
    "            return False\n",
    "        \n",
    "        @cache\n",
    "        def dp(i, s): # i번째 인덱스부터 시작해서 끝까지 고려할 때 s를 만들 수 있는가?\n",
    "            if s == 0: return True\n",
    "            if i >= len(nums) or s < 0: return False\n",
    "            return dp(i + 1, s - nums[i]) or dp(i + 1, s)\n",
    "\n",
    "        @cache\n",
    "        def dp2(j, s):  # j번째 인덱스까지만 살폈을 때 s를 만들 수 있는가? \n",
    "            if s == 0: return True\n",
    "            if j < 0 or j >= len(nums): return False\n",
    "            if s < 0: return False\n",
    "\n",
    "            return dp2(j - 1, s) or dp2(j - 1, s - nums[j])\n",
    "        \n",
    "        return dp2(len(nums) - 1, s // 2)\n",
    "\n",
    "\n",
    "s = Solution()\n",
    "print(s.canPartition(tc[1]))"
   ]
  }
 ],
 "metadata": {
  "kernelspec": {
   "display_name": "base",
   "language": "python",
   "name": "python3"
  },
  "language_info": {
   "codemirror_mode": {
    "name": "ipython",
    "version": 3
   },
   "file_extension": ".py",
   "mimetype": "text/x-python",
   "name": "python",
   "nbconvert_exporter": "python",
   "pygments_lexer": "ipython3",
   "version": "3.9.13"
  }
 },
 "nbformat": 4,
 "nbformat_minor": 2
}
