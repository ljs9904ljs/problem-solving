{
 "cells": [
  {
   "cell_type": "code",
   "execution_count": 1,
   "metadata": {},
   "outputs": [],
   "source": [
    "import sys\n",
    "from functools import cache\n",
    "from typing import List\n",
    "\n",
    "\n",
    "class Solution:\n",
    "    def coinChange(self, coins: List[int], amount: int) -> int:\n",
    "        \n",
    "        # input coin 값들이 배수 관계가 아니라 greedy는 쓸 수 없다.\n",
    "        # coins.length가 길어봐야 12이고, 2^12 = 4048이니까 그냥 동전 종류 별로 넣었다가 뺐다가 해보면 될 거 같아서 시도해본다.\n",
    "\n",
    "        # 풀다보니 완전히 잘못 생각했다는 것을 깨달았다. permutations 별로 앞에서부터 개수를 세는 방식을 생각했는데 그러면 factorial(coins.length) == 12! 이어서 (12! == 479001600) 너무 커진다.\n",
    "\n",
    "        # Topics를 통해 DP라는 힌트를 얻었다.\n",
    "\n",
    "        # dp[n] := n원을 만들기 위해 필요한 최소 코인 개수\n",
    "        # dp[n] = min{ dp[n - C_i] + 1 | C_i in 'coins'}\n",
    "\n",
    "        @cache\n",
    "        def dp(n):\n",
    "            if n == 0:\n",
    "                return 0\n",
    "            if n < 0:\n",
    "                return sys.maxsize\n",
    "            \n",
    "            return min([dp(n - coin) for coin in coins]) + 1\n",
    "            \n",
    "\n",
    "        result = dp(amount)\n",
    "        if result >= sys.maxsize:\n",
    "            return -1\n",
    "        return result"
   ]
  }
 ],
 "metadata": {
  "kernelspec": {
   "display_name": "base",
   "language": "python",
   "name": "python3"
  },
  "language_info": {
   "codemirror_mode": {
    "name": "ipython",
    "version": 3
   },
   "file_extension": ".py",
   "mimetype": "text/x-python",
   "name": "python",
   "nbconvert_exporter": "python",
   "pygments_lexer": "ipython3",
   "version": "3.9.13"
  }
 },
 "nbformat": 4,
 "nbformat_minor": 2
}
