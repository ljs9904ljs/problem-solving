{
 "cells": [
  {
   "cell_type": "code",
   "execution_count": null,
   "metadata": {},
   "outputs": [],
   "source": [
    "from typing import List\n",
    "\n",
    "class Solution:\n",
    "    def searchMatrix(self, matrix: List[List[int]], target: int) -> bool:\n",
    "        \n",
    "        M = len(matrix)\n",
    "        N = len(matrix[0])\n",
    "\n",
    "        def linear_order_to_matrix_location(i):\n",
    "            r = i // N\n",
    "            c = i % N\n",
    "            return (r, c)\n",
    "\n",
    "        def matrix_value(i):\n",
    "            r, c = linear_order_to_matrix_location(i)\n",
    "            return matrix[r][c]\n",
    "\n",
    "        l = 0\n",
    "        r = M * N - 1\n",
    "\n",
    "        result = False\n",
    "        while l <= r:  # 이거 등호가 있어야 l과 r이 같아지면서 한 칸 남았을 때도 탐색을 진행할 수 있다.\n",
    "            mid = (l + r) // 2\n",
    "\n",
    "            if matrix_value(mid) == target:\n",
    "                result = True\n",
    "                break\n",
    "            elif matrix_value(mid) < target:\n",
    "                l = mid + 1\n",
    "            else:\n",
    "                r = mid - 1\n",
    "        \n",
    "        return result\n",
    "\n",
    "\n",
    "\"\"\"\n",
    "2차원 matrix를 1차원으로 쭉 펼쳐서 binary search를 적용하면 될 것이라고 생각했다.\n",
    "그래서 0 <= 1차원 배열의 index < 행의 개수 * 열의 개수 ==>>에 대해 index 값을 2차원 배열의 row, col 인덱스 값으로 변환하는 함수를 작성하며 문제를 풀었다.\n",
    "\n",
    "\"\"\"\n"
   ]
  }
 ],
 "metadata": {
  "language_info": {
   "name": "python"
  }
 },
 "nbformat": 4,
 "nbformat_minor": 2
}
