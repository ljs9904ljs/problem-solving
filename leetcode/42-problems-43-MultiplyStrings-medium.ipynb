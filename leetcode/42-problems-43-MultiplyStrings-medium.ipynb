{
 "cells": [
  {
   "cell_type": "code",
   "execution_count": null,
   "metadata": {},
   "outputs": [],
   "source": [
    "class Solution:\n",
    "    def multiply(self, num1: str, num2: str) -> str:\n",
    "        result = [0] * 400\n",
    "    \n",
    "        for i, i_num in enumerate(reversed(num1)):\n",
    "            for j, j_num in enumerate(reversed(num2)):\n",
    "                pos = i + j\n",
    "\n",
    "                pos_one_value = int(i_num) * int(j_num) % 10 \n",
    "                pos_ten_value = int(i_num) * int(j_num) // 10\n",
    "                \n",
    "                result[pos] += pos_one_value\n",
    "                result[pos + 1] += pos_ten_value\n",
    "        \n",
    "        \n",
    "        for i in range(len(result) - 1):\n",
    "            result[i + 1] += result[i] // 10\n",
    "            result[i] = result[i] % 10\n",
    "        \n",
    "        cur = result[-1]\n",
    "        while cur == 0:\n",
    "            result.pop()\n",
    "            \n",
    "            if len(result) == 1:\n",
    "                break\n",
    "            else:\n",
    "                cur = result[-1]\n",
    "        \n",
    "        result = reversed(result)\n",
    "        \n",
    "        result = [str(e) for e in result]\n",
    "        return \"\".join(result)"
   ]
  }
 ],
 "metadata": {
  "kernelspec": {
   "display_name": "Python 3",
   "language": "python",
   "name": "python3"
  },
  "language_info": {
   "name": "python",
   "version": "3.12.0"
  }
 },
 "nbformat": 4,
 "nbformat_minor": 2
}
