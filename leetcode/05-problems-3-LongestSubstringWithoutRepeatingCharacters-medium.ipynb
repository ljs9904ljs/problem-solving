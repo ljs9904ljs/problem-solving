{
 "cells": [
  {
   "cell_type": "code",
   "execution_count": null,
   "metadata": {},
   "outputs": [],
   "source": [
    "class Solution:\n",
    "    def lengthOfLongestSubstring(self, s: str) -> int:\n",
    "        \n",
    "        # 인덱스 i, j = 0 to len(s)-1\n",
    "        # 중복되는 캐릭터가 없으면 j를 계속 j++\n",
    "        # s[i:j]에서 중복되는 캐릭터를 만나면 없어질 때까지 i++\n",
    "        # 그렇게 substring을 하나 하나 살피면서 longest length값을 업데이트한다.\n",
    "\n",
    "        # 처음 코드로 987개의 테스트 케이스 중에서 단 하나를 제외하고 986개를 통과했다!\n",
    "        # 실패한 테스트 케이스\n",
    "            # INPUT: s = \"\"\n",
    "            # OUTPUT: 1\n",
    "        # longest_len의 시작 값을 1로 줬었는데 empty string에 대응하기 위해 0으로 수정했다.\n",
    "\n",
    "        i = 0\n",
    "        j = 0\n",
    "        longest_len = 0\n",
    "        while i <= len(s) - 1 and j <= len(s) - 1:\n",
    "            while s[i:j+1].count(s[j]) >= 2:\n",
    "                i += 1\n",
    "            \n",
    "            longest_len = max( len(s[i:j+1]), longest_len )\n",
    "            j += 1\n",
    "        \n",
    "        return longest_len\n"
   ]
  }
 ],
 "metadata": {
  "language_info": {
   "name": "python"
  }
 },
 "nbformat": 4,
 "nbformat_minor": 2
}
