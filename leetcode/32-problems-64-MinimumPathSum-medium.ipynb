{
 "cells": [
  {
   "cell_type": "code",
   "execution_count": 6,
   "metadata": {},
   "outputs": [],
   "source": [
    "from functools import cache\n",
    "from typing import List\n",
    "\n",
    "\n",
    "class Solution:\n",
    "    def minPathSum(self, grid: List[List[int]]) -> int:\n",
    "        \"\"\"\n",
    "        \n",
    "        \n",
    "        dp[i][j] := i행, j열까지 왔을 때 최소 합계 값\n",
    "        dp[i][j] = min{ dp[i-1][j], dp[i][j-1] } + grid[i][j]\n",
    "        \n",
    "        directed graph로 만들고 dijkstra algorithm을 쓸 수도 있을 것 같다.\n",
    "\n",
    "        \"\"\"\n",
    "\n",
    "        m = len(grid)\n",
    "        n = len(grid[0])\n",
    "\n",
    "        INF = int(1e9)\n",
    "\n",
    "        @cache\n",
    "        def sol(i, j):\n",
    "            if i == 0 and j == 0:\n",
    "                return grid[0][0]\n",
    "            \n",
    "            if i < 0 or j < 0:\n",
    "                return INF\n",
    "\n",
    "            result = min(sol(i-1, j), sol(i, j-1)) + grid[i][j]\n",
    "            return result\n",
    "\n",
    "        return sol(m-1, n-1)\n",
    "    \n",
    "\n",
    "# s = Solution()\n",
    "# tc = [[1,3,1],[1,5,1],[4,2,1]]\n",
    "\n",
    "# s.minPathSum(tc)"
   ]
  }
 ],
 "metadata": {
  "kernelspec": {
   "display_name": "base",
   "language": "python",
   "name": "python3"
  },
  "language_info": {
   "codemirror_mode": {
    "name": "ipython",
    "version": 3
   },
   "file_extension": ".py",
   "mimetype": "text/x-python",
   "name": "python",
   "nbconvert_exporter": "python",
   "pygments_lexer": "ipython3",
   "version": "3.9.13"
  }
 },
 "nbformat": 4,
 "nbformat_minor": 2
}
