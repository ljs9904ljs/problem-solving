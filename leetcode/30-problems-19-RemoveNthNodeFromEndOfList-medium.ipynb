{
 "cells": [
  {
   "cell_type": "code",
   "execution_count": null,
   "metadata": {},
   "outputs": [],
   "source": [
    "from typing import Optional\n",
    "\n",
    "\n",
    "# Definition for singly-linked list.\n",
    "class ListNode:\n",
    "    def __init__(self, val=0, next=None):\n",
    "        self.val = val\n",
    "        self.next = next\n",
    "class Solution:\n",
    "    def removeNthFromEnd(self, head: Optional[ListNode], n: int) -> Optional[ListNode]:\n",
    "        # 문제풀이 15분 37초 소요\n",
    "        # 노드의 연결 구조를 바꾸는 형식으로 타겟 노드를 제거했다.\n",
    "\n",
    "        prv = None\n",
    "        cur = None\n",
    "        nxt = None\n",
    "\n",
    "        cur = head\n",
    "        size = 0\n",
    "        while cur != None:\n",
    "            size += 1\n",
    "            cur = cur.next\n",
    "        \n",
    "        target_pos = size - n\n",
    "\n",
    "        if target_pos == 0:\n",
    "            return head.next\n",
    "\n",
    "        cur = head\n",
    "        nxt = head.next\n",
    "        for _ in range(target_pos):\n",
    "            prv = cur\n",
    "            cur = cur.next\n",
    "            nxt = nxt.next\n",
    "        \n",
    "        if prv is not None:\n",
    "            prv.next = cur.next\n",
    "        \n",
    "        return head        \n",
    "\n"
   ]
  }
 ],
 "metadata": {
  "kernelspec": {
   "display_name": "base",
   "language": "python",
   "name": "python3"
  },
  "language_info": {
   "codemirror_mode": {
    "name": "ipython",
    "version": 3
   },
   "file_extension": ".py",
   "mimetype": "text/x-python",
   "name": "python",
   "nbconvert_exporter": "python",
   "pygments_lexer": "ipython3",
   "version": "3.9.13"
  }
 },
 "nbformat": 4,
 "nbformat_minor": 2
}
