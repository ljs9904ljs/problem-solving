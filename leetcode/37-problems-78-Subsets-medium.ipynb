{
 "cells": [
  {
   "cell_type": "code",
   "execution_count": null,
   "metadata": {},
   "outputs": [],
   "source": [
    "from typing import List\n",
    "\n",
    "\n",
    "class Solution:\n",
    "    def subsets(self, nums: List[int]) -> List[List[int]]:\n",
    "        \n",
    "\n",
    "        def acc(result, nums):\n",
    "            if len(nums) == 0:\n",
    "                return\n",
    "            \n",
    "            else:\n",
    "                new_result = []\n",
    "                for subset in result:\n",
    "                    # 지금 보고 있는 nums 배열의 첫 번째 원소를\n",
    "                    new_result.append(subset)   # 안 넣거나\n",
    "                    new_result.append(subset + [nums[0]])  # 넣거나!\n",
    "                \n",
    "                # 이거 뭐임? result = ...  으로 할 때는 할당이 안 되고, result[:] = ... 로 할 때는 할당이 되네?\n",
    "                \n",
    "                # 'result = ...' 에서는 result가 가리키고 있는 original list에 대한 포인터를 잃어버리고 list(new_result)에 대한 포인터로 변경되는 것이고,\n",
    "                # 'result[:] = ...' 에서는 result의 original list에 대한 포인터는 유지한 채, 그 original list의 값 자체를 변경해버리는 것이다.\n",
    "                # 즉, 둘은 실행 이후에 result 변수가 궁극적으로 들고 있는 포인터 값이 다른 것이다. 'result = ...'는 원래의 포인터를 잃어버린다.\n",
    "                result[:] = list(new_result)\n",
    "                acc(result, nums[1:])\n",
    "                return\n",
    "                \n",
    "        \n",
    "        result = [[]]\n",
    "        acc(result, nums)\n",
    "\n",
    "        return result\n"
   ]
  }
 ],
 "metadata": {
  "kernelspec": {
   "display_name": "Python 3",
   "language": "python",
   "name": "python3"
  },
  "language_info": {
   "name": "python",
   "version": "3.9.13"
  }
 },
 "nbformat": 4,
 "nbformat_minor": 2
}
