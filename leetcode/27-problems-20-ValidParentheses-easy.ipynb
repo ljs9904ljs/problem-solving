{
 "cells": [
  {
   "cell_type": "code",
   "execution_count": 2,
   "metadata": {},
   "outputs": [],
   "source": [
    "class Solution:\n",
    "    def isValid(self, s: str) -> bool:\n",
    "        \n",
    "        stack = []\n",
    "\n",
    "        open_pars = [\"(\", \"{\", \"[\"]\n",
    "        close_pars = [\")\", \"}\", \"]\"]\n",
    "\n",
    "        for i in range(len(s)):\n",
    "            if s[i] in open_pars:\n",
    "                stack.append(s[i])\n",
    "            elif s[i] in close_pars:\n",
    "                if len(stack) > 0:\n",
    "                    par = stack.pop()\n",
    "                    if par == open_pars[close_pars.index(s[i])]:\n",
    "                        continue\n",
    "                    else:\n",
    "                        return False\n",
    "                else:\n",
    "                    return False\n",
    "            else:\n",
    "                raise Exception(\"unreachable.\")\n",
    "\n",
    "        return len(stack) == 0"
   ]
  }
 ],
 "metadata": {
  "kernelspec": {
   "display_name": "base",
   "language": "python",
   "name": "python3"
  },
  "language_info": {
   "codemirror_mode": {
    "name": "ipython",
    "version": 3
   },
   "file_extension": ".py",
   "mimetype": "text/x-python",
   "name": "python",
   "nbconvert_exporter": "python",
   "pygments_lexer": "ipython3",
   "version": "3.9.13"
  }
 },
 "nbformat": 4,
 "nbformat_minor": 2
}
