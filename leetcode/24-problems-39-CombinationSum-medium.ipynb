{
 "cells": [
  {
   "cell_type": "code",
   "execution_count": null,
   "metadata": {},
   "outputs": [],
   "source": [
    "from itertools import combinations_with_replacement\n",
    "from typing import List\n",
    "\n",
    "\n",
    "class Solution:\n",
    "    def combinationSum(self, candidates: List[int], target: int) -> List[List[int]]:\n",
    "        def dfs(cur_target):\n",
    "            ans = []\n",
    "\n",
    "            for c in candidates:\n",
    "                if cur_target - c > 0:\n",
    "                    new_target = cur_target - c\n",
    "                    for num in dfs(new_target):\n",
    "                        ans.append([c] + num)\n",
    "                elif cur_target - c == 0:\n",
    "                    ans.append([c])\n",
    "                else:\n",
    "                    continue\n",
    "            return ans\n",
    " \n",
    "        def eliminate_dups(result):\n",
    "            return list(set([tuple(sorted(x)) for x in result]))\n",
    " \n",
    "        return eliminate_dups(dfs(target))\n",
    "                    \n",
    "                    \n",
    "a = [2,3,6,7]\n",
    "\n",
    "\n",
    "s = Solution()\n",
    "print(s.combinationSum(a, 7))\n",
    "\n",
    "\n",
    "\"\"\"\n",
    "\n",
    "중복 조합 문제인 줄 알았는데, 전혀 아니었다.\n",
    "backtracking을 해야 하는 문제였다...\n",
    "\n",
    "\"\"\""
   ]
  }
 ],
 "metadata": {
  "kernelspec": {
   "display_name": "base",
   "language": "python",
   "name": "python3"
  },
  "language_info": {
   "codemirror_mode": {
    "name": "ipython",
    "version": 3
   },
   "file_extension": ".py",
   "mimetype": "text/x-python",
   "name": "python",
   "nbconvert_exporter": "python",
   "pygments_lexer": "ipython3",
   "version": "3.9.13"
  }
 },
 "nbformat": 4,
 "nbformat_minor": 2
}
