{
 "cells": [
  {
   "cell_type": "code",
   "execution_count": 5,
   "metadata": {},
   "outputs": [
    {
     "name": "stdout",
     "output_type": "stream",
     "text": [
      "False\n"
     ]
    }
   ],
   "source": [
    "from typing import List\n",
    "\n",
    "class Solution:\n",
    "    def predictTheWinner(self, nums: List[int]) -> bool:\n",
    "        \n",
    "        ### 결국 못 풀어서 다른 해답들을 찾아보았다. 아래는 해답을 보고 정리한 내용 ###\n",
    "\n",
    "\n",
    "\n",
    "        # DP\n",
    "        # dp[i][j] := nums의 i번째 element부터 j번째 element까지 (둘 다 inclusive) 살폈을 때, (player 1 총 점수 - player 2 총 점수)\n",
    "        # dp[i][j] = max { 내가 고른 것의 점수 - 상대방의 최대한의 점수 } = max { nums[i] - dp[i + 1][j] , nums[j] - dp[i][j - 1]  }\n",
    "            # 왜 '-'인가? -> player 두 명이 서로 번갈아가면서 선택을 하기 때문에 다시 dp[i+1][j]나 dp[i][j-1]를 호출하는 부분은 상대방의 점수에 대한 dp 호출이다.\n",
    "                # 상대방도 최대한 높은 점수를 얻으려고 할 것이기 때문에 dp가 계속 되풀이될 수 있다.\n",
    "                    # player 1이 [i + 1][j]에 대해 최대한 노력해서 얻은 점수와 player 2가 [i + 1][j]에 대해 최대한 노력해서 얻은 점수는 같다는 이야기이다. \n",
    "                        # 즉, dp 내에서 굳이 player 1과 player 2를 구분해서 계산하고 있을 필요가 없다.\n",
    "                # 왼쪽에 있는 nums[i] 혹은 nums[j] 부분이 나의 점수이다.\n",
    "            # (기록용 참고) minimax의 아이디어였다면 -> '상대방의 최대한의 점수'를 최소화해야 결국 내가 가지는 점수가 최대값이 될 수 있다.\n",
    "        \n",
    "\n",
    "        dp = [[0] * len(nums) for _ in range(len(nums))]\n",
    "\n",
    "        for i in range(len(nums)):\n",
    "            # 선택할 수 있는 수가 단 1개만 있는 상태에서 게임을 시작하면 player 1이 먼저 시작하니까 그 수를 고를 것이고 player 2는 아무 것도 못 고르니까 고스란히 dp 값이 된다.\n",
    "            dp[i][i] = nums[i]\n",
    "        \n",
    "        i = 0\n",
    "        for j in range(1, len(nums)):\n",
    "            while i < len(nums) and j < len(nums):\n",
    "                dp[i][j] = max( nums[i] - dp[i + 1][j] , nums[j] - dp[i][j - 1] )\n",
    "\n",
    "                i += 1\n",
    "                j += 1\n",
    "\n",
    "            i = 0\n",
    "        \n",
    "        return dp[0][len(nums) - 1] >= 0\n",
    "\n",
    "\n",
    "\n",
    "        # 목표: dp[0][len(nums) - 1]  -> 이 값이 0 이상이면 player 1이 승리, 아니면 player 2가 승리\n",
    "    \n",
    "    s = Solution()\n",
    "    print(s.predictTheWinner([1, 5, 2]))\n",
    "    print(s.predictTheWinner([1, 5, 233, 7]))\n",
    "    "
   ]
  }
 ],
 "metadata": {
  "kernelspec": {
   "display_name": "base",
   "language": "python",
   "name": "python3"
  },
  "language_info": {
   "codemirror_mode": {
    "name": "ipython",
    "version": 3
   },
   "file_extension": ".py",
   "mimetype": "text/x-python",
   "name": "python",
   "nbconvert_exporter": "python",
   "pygments_lexer": "ipython3",
   "version": "3.9.13"
  }
 },
 "nbformat": 4,
 "nbformat_minor": 2
}
