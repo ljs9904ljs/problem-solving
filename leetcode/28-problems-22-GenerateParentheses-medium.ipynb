{
 "cells": [
  {
   "cell_type": "code",
   "execution_count": 1,
   "metadata": {},
   "outputs": [],
   "source": [
    "from typing import List\n",
    "\n",
    "\n",
    "class Solution:\n",
    "    def generateParenthesis(self, n: int) -> List[str]:\n",
    "        \n",
    "        \"\"\"\n",
    "        올바른 괄호는 context free language로 표현된다.\n",
    "        context free language를 generate하려면 context free grammar가 필요하다.\n",
    "\n",
    "        epsilon은 e로 표현했다.\n",
    "\n",
    "        S -> e | (S)S \n",
    "        \n",
    "        또는\n",
    "\n",
    "        S -> e | (S) | SS\n",
    "        \"\"\"\n",
    "\n",
    "\n",
    "            \n",
    "            \n",
    "            \n"
   ]
  }
 ],
 "metadata": {
  "kernelspec": {
   "display_name": "base",
   "language": "python",
   "name": "python3"
  },
  "language_info": {
   "codemirror_mode": {
    "name": "ipython",
    "version": 3
   },
   "file_extension": ".py",
   "mimetype": "text/x-python",
   "name": "python",
   "nbconvert_exporter": "python",
   "pygments_lexer": "ipython3",
   "version": "3.9.13"
  }
 },
 "nbformat": 4,
 "nbformat_minor": 2
}
