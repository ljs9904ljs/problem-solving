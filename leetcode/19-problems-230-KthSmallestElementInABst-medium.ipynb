{
 "cells": [
  {
   "cell_type": "code",
   "execution_count": 1,
   "metadata": {},
   "outputs": [],
   "source": [
    "from typing import Optional\n",
    "\n",
    "\n",
    "# Definition for a binary tree node.\n",
    "class TreeNode:\n",
    "    def __init__(self, val=0, left=None, right=None):\n",
    "        self.val = val\n",
    "        self.left = left\n",
    "        self.right = right\n",
    "        \n",
    "        \n",
    "class Solution:\n",
    "    def kthSmallest(self, root: Optional[TreeNode], k: int) -> int:\n",
    "        \n",
    "        # inorder traversal의 순서는 곧 k-th-smallest 순서이다.\n",
    "\n",
    "        \n",
    "        def inorder_traversal(t):\n",
    "            if t is None:\n",
    "                return []\n",
    "\n",
    "            return inorder_traversal(t.left) + [t.val] + inorder_traversal(t.right)\n",
    "        \n",
    "        result = inorder_traversal(root)\n",
    "\n",
    "        return result[k - 1]"
   ]
  }
 ],
 "metadata": {
  "kernelspec": {
   "display_name": "base",
   "language": "python",
   "name": "python3"
  },
  "language_info": {
   "name": "python",
   "version": "3.9.13"
  }
 },
 "nbformat": 4,
 "nbformat_minor": 2
}
