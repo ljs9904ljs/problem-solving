{
 "cells": [
  {
   "cell_type": "code",
   "execution_count": null,
   "metadata": {
    "vscode": {
     "languageId": "plaintext"
    }
   },
   "outputs": [],
   "source": [
    "from typing import List\n",
    "\n",
    "class Solution:\n",
    "    def rob(self, nums: List[int]) -> int:\n",
    "        \n",
    "\n",
    "        # DP\n",
    "        # dp[i] = max { dp[i - 2] + money[i] , dp[i - 1] } for i >= 0\n",
    "\n",
    "        dp = [0] * (len(nums))\n",
    "\n",
    "        if len(nums) >= 1:\n",
    "            dp[0] = nums[0]\n",
    "        \n",
    "        if len(nums) >= 2:\n",
    "            dp[1] = max(nums[0], nums[1])\n",
    "\n",
    "\n",
    "        for i in range(2, len(nums)):\n",
    "            dp[i] = max(dp[i - 2] + nums[i], dp[i - 1])\n",
    "        \n",
    "        return dp[-1]\n"
   ]
  }
 ],
 "metadata": {
  "language_info": {
   "name": "python"
  }
 },
 "nbformat": 4,
 "nbformat_minor": 2
}
