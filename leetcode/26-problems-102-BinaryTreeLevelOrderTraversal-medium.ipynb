{
 "cells": [
  {
   "cell_type": "code",
   "execution_count": 1,
   "metadata": {},
   "outputs": [],
   "source": [
    "from collections import defaultdict\n",
    "from typing import Optional, List\n",
    "\n",
    "\n",
    "# Definition for a binary tree node.\n",
    "class TreeNode:\n",
    "    def __init__(self, val=0, left=None, right=None):\n",
    "        self.val = val\n",
    "        self.left = left\n",
    "        self.right = right\n",
    "class Solution:\n",
    "    def levelOrder(self, root: Optional[TreeNode]) -> List[List[int]]:\n",
    "        \n",
    "\n",
    "        level_tree = defaultdict(list)\n",
    "        \n",
    "        def traverse(t, cur_level):\n",
    "            if t is None: return\n",
    "\n",
    "            level_tree[cur_level].append(t.val)\n",
    "\n",
    "            if t.left is not None:\n",
    "                traverse(t.left, cur_level + 1)\n",
    "            if t.right is not None:\n",
    "                traverse(t.right, cur_level + 1)\n",
    "\n",
    "        traverse(root, 0)\n",
    "\n",
    "        result = []\n",
    "        for level in level_tree:\n",
    "            result.append(level_tree[level])\n",
    "\n",
    "        return result\n",
    "\n",
    "\n"
   ]
  }
 ],
 "metadata": {
  "kernelspec": {
   "display_name": "base",
   "language": "python",
   "name": "python3"
  },
  "language_info": {
   "codemirror_mode": {
    "name": "ipython",
    "version": 3
   },
   "file_extension": ".py",
   "mimetype": "text/x-python",
   "name": "python",
   "nbconvert_exporter": "python",
   "pygments_lexer": "ipython3",
   "version": "3.9.13"
  }
 },
 "nbformat": 4,
 "nbformat_minor": 2
}
