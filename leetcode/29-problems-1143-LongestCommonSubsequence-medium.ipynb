{
 "cells": [
  {
   "cell_type": "code",
   "execution_count": null,
   "metadata": {},
   "outputs": [
    {
     "data": {
      "text/plain": [
       "'\\n점화식에서 아래 파트가 이해가 잘 안 된다...\\n내일 다시 살펴봐야겠다.\\ndp[i][j] = max(dp[i-1][j], dp[i][j-1])\\n\\n\\n'"
      ]
     },
     "execution_count": 2,
     "metadata": {},
     "output_type": "execute_result"
    }
   ],
   "source": [
    "class Solution:\n",
    "    def longestCommonSubsequence(self, text1: str, text2: str) -> int:\n",
    "        \n",
    "        \n",
    "        # dp[i][j] := text1의 i(0부터)번째 글자까지 살피고, text2의 j(0부터)번째 글자까지 살폈을 때 LCS 길이 값.\n",
    "        # dp[i][j] = dp[i-1][j-1] + [ text1[i] == text2[j] ]\n",
    "\n",
    "        dp = [ [0] * (len(text2) + 1) for _ in range(len(text1) + 1) ]\n",
    "\n",
    "        for i in range(len(text1) + 1):\n",
    "            for j in range(len(text2) + 1):\n",
    "                if i == 0 or j == 0:\n",
    "                    dp[i][j] = 0\n",
    "                elif text1[i-1] == text2[j-1]:\n",
    "                    dp[i][j] = dp[i-1][j-1] + 1\n",
    "                else:\n",
    "                    dp[i][j] = max(dp[i-1][j], dp[i][j-1])\n",
    "        \n",
    "        return dp[len(text1)][len(text2)]\n",
    "\n",
    "\n",
    "\"\"\"\n",
    "점화식에서 아래 파트가 이해가 잘 안 된다...\n",
    "내일 다시 살펴봐야겠다.\n",
    "dp[i][j] = max(dp[i-1][j], dp[i][j-1])\n",
    "\n",
    "\n",
    "\"\"\""
   ]
  },
  {
   "cell_type": "code",
   "execution_count": null,
   "metadata": {},
   "outputs": [],
   "source": [
    "\n",
    "# 참고: https://velog.io/@emplam27/%EC%95%8C%EA%B3%A0%EB%A6%AC%EC%A6%98-%EA%B7%B8%EB%A6%BC%EC%9C%BC%EB%A1%9C-%EC%95%8C%EC%95%84%EB%B3%B4%EB%8A%94-LCS-%EC%95%8C%EA%B3%A0%EB%A6%AC%EC%A6%98-Longest-Common-Substring%EC%99%80-Longest-Common-Subsequence\n",
    "\n",
    "\n",
    "# Longest Common Substring\n",
    "\n",
    "\n",
    "\"\"\"\n",
    "ABCDEF\n",
    "        ==>> BCD\n",
    "GBCDFE \n",
    "\n",
    "\n",
    "\n",
    "dp[i][j] := 문자열 A의 i(1부터 시작)번째를 살피고, 문자열 B의 j(1부터 시작)번째 글자를 살폈을 때 common substring 길이 값.\n",
    "\n",
    "<초기 세팅>\n",
    "dp[0][*] = 0\n",
    "dp[*][0] = 0\n",
    "\n",
    "<점화식>\n",
    "dp[i][j] = {\n",
    "        dp[i-1][j-1] + 1  if A[i] == B[j]\n",
    "        0  otherwise  # 중간에 끊긴 것이므로 0부터 다시 길이를 늘려가야 한다. substring은 끊김없이 쭉 이어져야 하는 것이다.\n",
    "    }\n",
    "\n",
    "\n",
    "dp table을 다 채운 후, 그 중에서 가장 큰 값을 리턴하면 된다.\n",
    "\"\"\"\n",
    "\n"
   ]
  },
  {
   "cell_type": "code",
   "execution_count": null,
   "metadata": {},
   "outputs": [],
   "source": [
    "# Longest Common Subsequence\n",
    "\n",
    "\n",
    "\"\"\"\n",
    "똑같은 input string 2개에 대해 여러 가지 경우의 수가 있을 수 있다.\n",
    "\n",
    "ABCDEF\n",
    "        ==>> BCDF\n",
    "GBCDFE \n",
    "---------------------------\n",
    "ABCDEF\n",
    "        ==>> BCDE\n",
    "GBCDFE \n",
    "\n",
    "\n",
    "dp[i][j] := 문자열 A의 i(1부터 시작)번째 글자까지 살피고, 문자열 B의 j(1부터 시작)번째 글자까지 살폈을 때 최대 Longest Common Subsequence 값.\n",
    "\n",
    "<초기 세팅>\n",
    "dp[*][0] = 0\n",
    "dp[0][*] = 0\n",
    "\n",
    "<점화식>\n",
    "dp[i][j] = {\n",
    "        dp[i-1][j-1] + 1  if A[i] == B[j]\n",
    "        max ( dp[i-1][j] , dp[i][j-1] )  otherwise\n",
    "}\n",
    "\n",
    "\n",
    "여기서는 dp table을 채우면서 계속 누적해나가니까 dp[len(A)][len(B)]를 리턴하면 된다.\n",
    "\"\"\""
   ]
  }
 ],
 "metadata": {
  "kernelspec": {
   "display_name": "base",
   "language": "python",
   "name": "python3"
  },
  "language_info": {
   "codemirror_mode": {
    "name": "ipython",
    "version": 3
   },
   "file_extension": ".py",
   "mimetype": "text/x-python",
   "name": "python",
   "nbconvert_exporter": "python",
   "pygments_lexer": "ipython3",
   "version": "3.9.13"
  }
 },
 "nbformat": 4,
 "nbformat_minor": 2
}
