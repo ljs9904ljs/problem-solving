{
 "cells": [
  {
   "cell_type": "code",
   "execution_count": null,
   "metadata": {},
   "outputs": [],
   "source": [
    "\"\"\"\n",
    "1094. Car Pooling\n",
    "\n",
    "\n",
    "There is a car with capacity empty seats. The vehicle only drives east (i.e., it cannot turn around and drive west).\n",
    "\n",
    "You are given the integer capacity and an array trips where trips[i] = [numPassengersi, fromi, toi] indicates that the ith trip has numPassengersi passengers and the locations to pick them up and drop them off are fromi and toi respectively. The locations are given as the number of kilometers due east from the car's initial location.\n",
    "\n",
    "Return true if it is possible to pick up and drop off all passengers for all the given trips, or false otherwise.\n",
    "\n",
    " \n",
    "\n",
    "Example 1:\n",
    "\n",
    "Input: trips = [[2,1,5],[3,3,7]], capacity = 4\n",
    "Output: false\n",
    "Example 2:\n",
    "\n",
    "Input: trips = [[2,1,5],[3,3,7]], capacity = 5\n",
    "Output: true\n",
    " \n",
    "\n",
    "Constraints:\n",
    "\n",
    "1 <= trips.length <= 1000\n",
    "trips[i].length == 3\n",
    "1 <= numPassengersi <= 100\n",
    "0 <= fromi < toi <= 1000\n",
    "1 <= capacity <= 105\n",
    "\"\"\""
   ]
  },
  {
   "cell_type": "code",
   "execution_count": 2,
   "metadata": {},
   "outputs": [],
   "source": [
    "from typing import List\n",
    "\n",
    "\n",
    "class Solution:\n",
    "    def carPooling(self, trips: List[List[int]], capacity: int) -> bool:\n",
    "        # max_end = max([x[2] for x in trips])\n",
    "        max_end = 1000  # 문제에서 제시한 조건에 의해.\n",
    "\n",
    "        pax_arr = [0] * (max_end + 1)\n",
    "\n",
    "        for c, s, e in trips:\n",
    "            pax_arr[s] += c\n",
    "            pax_arr[e] -= c\n",
    "\n",
    "        num_pax = 0\n",
    "        for pax in pax_arr:\n",
    "            if num_pax + pax <= capacity:\n",
    "                num_pax += pax\n",
    "            else:\n",
    "                return False\n",
    "        \n",
    "        return True"
   ]
  }
 ],
 "metadata": {
  "kernelspec": {
   "display_name": "Python 3",
   "language": "python",
   "name": "python3"
  },
  "language_info": {
   "codemirror_mode": {
    "name": "ipython",
    "version": 3
   },
   "file_extension": ".py",
   "mimetype": "text/x-python",
   "name": "python",
   "nbconvert_exporter": "python",
   "pygments_lexer": "ipython3",
   "version": "3.9.13"
  }
 },
 "nbformat": 4,
 "nbformat_minor": 2
}
