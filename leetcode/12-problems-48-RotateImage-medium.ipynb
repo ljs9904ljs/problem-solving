{
 "cells": [
  {
   "cell_type": "code",
   "execution_count": 3,
   "metadata": {},
   "outputs": [
    {
     "name": "stdout",
     "output_type": "stream",
     "text": [
      "4 8 \n",
      "3 6 \n",
      "============================\n",
      "3 4 \n",
      "6 8 \n"
     ]
    }
   ],
   "source": [
    "from typing import List\n",
    "\n",
    "class Solution:\n",
    "    def rotate(self, matrix: List[List[int]]) -> None:\n",
    "        \"\"\"\n",
    "        Do not return anything, modify matrix in-place instead.\n",
    "        \"\"\"\n",
    "\n",
    "        N = len(matrix)\n",
    "\n",
    "        def transpose(m):\n",
    "            for i in range(N):\n",
    "                for j in range(N):\n",
    "                    if i < j:\n",
    "                        m[i][j], m[j][i] = m[j][i], m[i][j]\n",
    "        \n",
    "        \n",
    "        # 참고) 다른 답변을 찾아보니 이렇게 일일히 좌우를 swap하는 게 아니라, 그냥 하나의 행에 대한 list를 reverse하는 방법도 존재한다...\n",
    "        def left_to_right(m):\n",
    "            for i in range(N):\n",
    "                for j in range(N // 2):\n",
    "                    k = N - (j + 1)\n",
    "                    m[i][j], m[i][k] = m[i][k], m[i][j]\n",
    "                \n",
    "\n",
    "        transpose(matrix)\n",
    "        left_to_right(matrix)"
   ]
  }
 ],
 "metadata": {
  "kernelspec": {
   "display_name": "Python 3",
   "language": "python",
   "name": "python3"
  },
  "language_info": {
   "codemirror_mode": {
    "name": "ipython",
    "version": 3
   },
   "file_extension": ".py",
   "mimetype": "text/x-python",
   "name": "python",
   "nbconvert_exporter": "python",
   "pygments_lexer": "ipython3",
   "version": "3.9.13"
  }
 },
 "nbformat": 4,
 "nbformat_minor": 2
}
