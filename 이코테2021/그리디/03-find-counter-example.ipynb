{
 "cells": [
  {
   "cell_type": "code",
   "execution_count": 2,
   "metadata": {},
   "outputs": [],
   "source": [
    "def ascending_sol(data: list[int]) -> int:\n",
    "    data.sort()\n",
    "\n",
    "    result = 0\n",
    "    count = 0\n",
    "\n",
    "    for i in data:\n",
    "        count += 1\n",
    "        if count >= i:\n",
    "            result += 1\n",
    "            count = 0\n",
    "\n",
    "    return result\n",
    "\n",
    "\n",
    "def descending_sol(data: list[int]) -> int:\n",
    "    data.sort(reverse=True)\n",
    "\n",
    "    cnt = 0\n",
    "    i = 0\n",
    "    while i < len(data):\n",
    "        horror = data[i]\n",
    "        if (i + horror - 1) < len(data):\n",
    "            cnt += 1\n",
    "            i += horror\n",
    "        else:\n",
    "            i += 1\n",
    "        # print(\"inf loop?\")\n",
    "\n",
    "    return cnt"
   ]
  },
  {
   "cell_type": "code",
   "execution_count": 3,
   "metadata": {},
   "outputs": [],
   "source": [
    "\n",
    "import numpy as np\n",
    "\n",
    "def gen_example() -> list[int]:\n",
    "    random_size = np.random.randint(low = 1,high=10,size=1)\n",
    "    random_int_list = list(np.random.randint(low = 1,high=50,size=random_size))\n",
    "    return random_int_list\n",
    "\n"
   ]
  },
  {
   "cell_type": "code",
   "execution_count": 4,
   "metadata": {},
   "outputs": [
    {
     "ename": "IndentationError",
     "evalue": "unexpected indent (710641156.py, line 28)",
     "output_type": "error",
     "traceback": [
      "\u001b[1;36m  Cell \u001b[1;32mIn[4], line 28\u001b[1;36m\u001b[0m\n\u001b[1;33m    \"\"\"\u001b[0m\n\u001b[1;37m    ^\u001b[0m\n\u001b[1;31mIndentationError\u001b[0m\u001b[1;31m:\u001b[0m unexpected indent\n"
     ]
    }
   ],
   "source": [
    "\n",
    "succ_cnt = 0\n",
    "fail_cnt = 0\n",
    "\n",
    "for _ in range(1, 1000):\n",
    "\n",
    "    li = gen_example()\n",
    "\n",
    "    desc_sol = descending_sol(li)\n",
    "    asc_sol = ascending_sol(li)\n",
    "\n",
    "\n",
    "\n",
    "    if desc_sol == asc_sol:\n",
    "        # print(f\"test passed!, list size is ({len(li)})\")\n",
    "        succ_cnt += 1\n",
    "    else:\n",
    "        print(\"test fail@@@@@@@@@@@@@@@@@@@@@@@@@@@@@\")\n",
    "        print(f\"\\tdesc sol : {desc_sol}\")\n",
    "        print(f\"\\tasc sol : {asc_sol}\")\n",
    "        print(list(map(int, li)))\n",
    "        fail_cnt += 1\n",
    "\n",
    "\n",
    "\n",
    "print(f\"# of success: {succ_cnt} \\n# of fail: {fail_cnt}\")\n",
    "\n",
    "\n",
    "  \n",
    "#     반례를 찾았다.\n",
    "    \n",
    "#     test fail@@@@@@@@@@@@@@@@@@@@@@@@@@@@@\n",
    "# \tdesc sol : 1\n",
    "# \tasc sol : 3\n",
    "# [1, 1, 1, 4, 6, 6, 21, 25, 34]\n",
    "  "
   ]
  }
 ],
 "metadata": {
  "kernelspec": {
   "display_name": "Python 3",
   "language": "python",
   "name": "python3"
  },
  "language_info": {
   "codemirror_mode": {
    "name": "ipython",
    "version": 3
   },
   "file_extension": ".py",
   "mimetype": "text/x-python",
   "name": "python",
   "nbconvert_exporter": "python",
   "pygments_lexer": "ipython3",
   "version": "3.11.9"
  }
 },
 "nbformat": 4,
 "nbformat_minor": 2
}
