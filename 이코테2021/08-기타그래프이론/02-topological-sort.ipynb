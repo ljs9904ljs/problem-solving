{
 "cells": [
  {
   "cell_type": "code",
   "execution_count": 1,
   "metadata": {},
   "outputs": [],
   "source": [
    "from collections import deque\n",
    "\n",
    "\n",
    "def topological_sort(dag):\n",
    "    \"\"\"\n",
    "        :param dag: It must be a DAG. Each element is a List of destination node numbers. List index is source node number.\n",
    "        :return: returns a list sorted in topological order\n",
    "    \"\"\"\n",
    "    result = []\n",
    "    q = deque()\n",
    "    indegree = [0] * len(dag)\n",
    "    \n",
    "    for i in range(len(dag)):\n",
    "        for j in dag[i]:\n",
    "            indegree[j] += 1\n",
    "    \n",
    "    q.extend([v for v in range(len(indegree)) if indegree[v] == 0])\n",
    "    \n",
    "    while q:\n",
    "        v = q.popleft()\n",
    "        result.append(v)\n",
    "        \n",
    "        for u in dag[v]:\n",
    "            # remove outgoing edges of v\n",
    "            indegree[u] -= 1\n",
    "            \n",
    "            # If the indegree of a node is 0, then put in the queue        \n",
    "            if indegree[u] == 0:\n",
    "                q.append(u)\n",
    "    \n",
    "    return result\n",
    "\n",
    "\n",
    "\n",
    "    \n",
    "    \n",
    "    \n",
    "    "
   ]
  },
  {
   "cell_type": "code",
   "execution_count": 2,
   "metadata": {},
   "outputs": [
    {
     "name": "stdout",
     "output_type": "stream",
     "text": [
      "[0, 1, 2, 5, 3, 6, 4, 7]\n"
     ]
    }
   ],
   "source": [
    "\n",
    "# example comes from [https://youtu.be/aOhhNFTIeFI?si=Jh3bQbWBLUENPcXU&t=2447]\n",
    "g = [[] for _ in range(8)]\n",
    "\n",
    "g[0].append(1)  # 동영상 속 예제의 노드 번호가 1부터 시작해서 그냥 노드 0번에 대한 edge를 임의로 추가하고 실행시킴.\n",
    "g[1].append(2)\n",
    "g[1].append(5)\n",
    "g[2].append(3)\n",
    "g[2].append(6)\n",
    "g[3].append(4)\n",
    "g[4].append(7)\n",
    "g[5].append(6)\n",
    "g[6].append(4)\n",
    "\n",
    "result = topological_sort(g)\n",
    "print(result)\n"
   ]
  }
 ],
 "metadata": {
  "kernelspec": {
   "display_name": "base",
   "language": "python",
   "name": "python3"
  },
  "language_info": {
   "codemirror_mode": {
    "name": "ipython",
    "version": 3
   },
   "file_extension": ".py",
   "mimetype": "text/x-python",
   "name": "python",
   "nbconvert_exporter": "python",
   "pygments_lexer": "ipython3",
   "version": "3.9.13"
  }
 },
 "nbformat": 4,
 "nbformat_minor": 2
}
