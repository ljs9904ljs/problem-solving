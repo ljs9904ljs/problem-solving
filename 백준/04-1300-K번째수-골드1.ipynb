{
 "cells": [
  {
   "cell_type": "code",
   "execution_count": null,
   "metadata": {},
   "outputs": [],
   "source": [
    "\"\"\"\n",
    "문제\n",
    "세준이는 크기가 N×N인 배열 A를 만들었다. 배열에 들어있는 수 A[i][j] = i×j 이다. 이 수를 일차원 배열 B에 넣으면 B의 크기는 N×N이 된다. B를 오름차순 정렬했을 때, B[k]를 구해보자.\n",
    "\n",
    "배열 A와 B의 인덱스는 1부터 시작한다.\n",
    "\n",
    "입력\n",
    "첫째 줄에 배열의 크기 N이 주어진다. N은 105보다 작거나 같은 자연수이다. 둘째 줄에 k가 주어진다. k는 min(109, N2)보다 작거나 같은 자연수이다.\n",
    "\n",
    "출력\n",
    "B[k]를 출력한다.\n",
    "\n",
    "\n",
    "예제 입력 1 \n",
    "3\n",
    "7\n",
    "예제 출력 1 \n",
    "6\n",
    "\n",
    "\"\"\"\n"
   ]
  },
  {
   "cell_type": "code",
   "execution_count": null,
   "metadata": {},
   "outputs": [
    {
     "name": "stdout",
     "output_type": "stream",
     "text": [
      "6\n",
      "6\n"
     ]
    }
   ],
   "source": [
    "N = int(input())\n",
    "k = int(input())\n",
    "\n",
    "# 1 2 3\n",
    "# 2 4 6\n",
    "# 3 6 9\n",
    "\n",
    "# 1 2 3 4\n",
    "# 2 4 6 8\n",
    "# 3 6 9 12\n",
    "# 4 8 12 16\n",
    "\n",
    "# 1  2  3  4  5\n",
    "# 2  4  6  8  10\n",
    "# 3  6  9  12 15\n",
    "# 4  8  12 16 20\n",
    "# 5  10 15 20 25\n",
    "\n",
    "\n",
    "\n",
    "def count(x: int) -> int:\n",
    "    cnt = 0\n",
    "    for i in range(1, N + 1):\n",
    "        cnt += min(N, x // i)  # x 이하인 것들의 개수, 그리고 많아 봐야 한 줄 당 N개가 최대다.\n",
    "    \n",
    "    return cnt\n",
    "\n",
    "\n",
    "def find():\n",
    "    l = 1\n",
    "    r = N * N\n",
    "    ans = None\n",
    "    \n",
    "    while l <= r:\n",
    "        mid = (l + r) // 2\n",
    "        cnt = count(mid)\n",
    "        if cnt >= k:\n",
    "            # 개수가 변하는 지점까지 1씩 감소시키며 계속 탐색하다보면 개수가 줄어드는 시점을 만날 것이다. 그 직전이 바로 내가 찾던 값이다.\n",
    "            ans = mid\n",
    "            r = mid - 1\n",
    "        else:\n",
    "            l = mid + 1\n",
    "            \n",
    "    return ans    \n",
    "            \n",
    "print(find())\n",
    "\n",
    "\n",
    "    \n",
    "\n"
   ]
  }
 ],
 "metadata": {
  "kernelspec": {
   "display_name": "Python 3",
   "language": "python",
   "name": "python3"
  },
  "language_info": {
   "codemirror_mode": {
    "name": "ipython",
    "version": 3
   },
   "file_extension": ".py",
   "mimetype": "text/x-python",
   "name": "python",
   "nbconvert_exporter": "python",
   "pygments_lexer": "ipython3",
   "version": "3.9.13"
  }
 },
 "nbformat": 4,
 "nbformat_minor": 2
}
