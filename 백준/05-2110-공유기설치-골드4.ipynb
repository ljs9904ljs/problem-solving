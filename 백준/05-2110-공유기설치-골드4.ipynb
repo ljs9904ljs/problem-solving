{
 "cells": [
  {
   "cell_type": "code",
   "execution_count": 1,
   "metadata": {},
   "outputs": [
    {
     "data": {
      "text/plain": [
       "'\\n문제\\n도현이의 집 N개가 수직선 위에 있다. 각각의 집의 좌표는 x1, ..., xN이고, 집 여러개가 같은 좌표를 가지는 일은 없다.\\n\\n도현이는 언제 어디서나 와이파이를 즐기기 위해서 집에 공유기 C개를 설치하려고 한다. 최대한 많은 곳에서 와이파이를 사용하려고 하기 때문에, 한 집에는 공유기를 하나만 설치할 수 있고, 가장 인접한 두 공유기 사이의 거리를 가능한 크게 하여 설치하려고 한다.\\n\\nC개의 공유기를 N개의 집에 적당히 설치해서, 가장 인접한 두 공유기 사이의 거리를 최대로 하는 프로그램을 작성하시오.\\n\\n입력\\n첫째 줄에 집의 개수 N (2 ≤ N ≤ 200,000)과 공유기의 개수 C (2 ≤ C ≤ N)이 하나 이상의 빈 칸을 사이에 두고 주어진다. 둘째 줄부터 N개의 줄에는 집의 좌표를 나타내는 xi (0 ≤ xi ≤ 1,000,000,000)가 한 줄에 하나씩 주어진다.\\n\\n출력\\n첫째 줄에 가장 인접한 두 공유기 사이의 최대 거리를 출력한다.\\n\\n예제 입력 1 \\n5 3\\n1\\n2\\n8\\n4\\n9\\n예제 출력 1 \\n3\\n\\n'"
      ]
     },
     "execution_count": 1,
     "metadata": {},
     "output_type": "execute_result"
    }
   ],
   "source": [
    "\"\"\"\n",
    "문제\n",
    "도현이의 집 N개가 수직선 위에 있다. 각각의 집의 좌표는 x1, ..., xN이고, 집 여러개가 같은 좌표를 가지는 일은 없다.\n",
    "\n",
    "도현이는 언제 어디서나 와이파이를 즐기기 위해서 집에 공유기 C개를 설치하려고 한다. 최대한 많은 곳에서 와이파이를 사용하려고 하기 때문에, 한 집에는 공유기를 하나만 설치할 수 있고, 가장 인접한 두 공유기 사이의 거리를 가능한 크게 하여 설치하려고 한다.\n",
    "\n",
    "C개의 공유기를 N개의 집에 적당히 설치해서, 가장 인접한 두 공유기 사이의 거리를 최대로 하는 프로그램을 작성하시오.\n",
    "\n",
    "입력\n",
    "첫째 줄에 집의 개수 N (2 ≤ N ≤ 200,000)과 공유기의 개수 C (2 ≤ C ≤ N)이 하나 이상의 빈 칸을 사이에 두고 주어진다. 둘째 줄부터 N개의 줄에는 집의 좌표를 나타내는 xi (0 ≤ xi ≤ 1,000,000,000)가 한 줄에 하나씩 주어진다.\n",
    "\n",
    "출력\n",
    "첫째 줄에 가장 인접한 두 공유기 사이의 최대 거리를 출력한다.\n",
    "\n",
    "예제 입력 1 \n",
    "5 3\n",
    "1\n",
    "2\n",
    "8\n",
    "4\n",
    "9\n",
    "예제 출력 1 \n",
    "3\n",
    "\n",
    "\"\"\""
   ]
  },
  {
   "cell_type": "code",
   "execution_count": null,
   "metadata": {},
   "outputs": [],
   "source": [
    "\"\"\"\n",
    "<<문제 풀이 소요 시간>>\n",
    "28분\n",
    "\n",
    "<<메모>>\n",
    "while 중단 조건으로 넣는 left와 right의 대소 비교를 잘 살펴야 한다. \n",
    "l <= r인지, l < r인지 l = mid, l = mid + 1, r = mid, r = mid - 1을 상황에 맞게 적절히 사용해야 한다.\n",
    "\n",
    "이번 경우에는 이미 사용한 mid 값을 ans에 넣고 있기 때문에 쓸모없어진 mid 값을 버리고 mid - 1과 mid + 1을 선택했다.\n",
    "그리고 그에 맞춰서 l == r일 때도 한 번 더 검사하도록 하여 최적의 값을 찾도록 하였다.\n",
    "\"\"\""
   ]
  },
  {
   "cell_type": "code",
   "execution_count": null,
   "metadata": {},
   "outputs": [
    {
     "name": "stdout",
     "output_type": "stream",
     "text": [
      "3\n"
     ]
    }
   ],
   "source": [
    "\n",
    "N, C = map(int, input().split())\n",
    "x = list()\n",
    "\n",
    "for _ in range(N):\n",
    "    x.append(int(input()))\n",
    "\n",
    "x.sort()\n",
    "\n",
    "\n",
    "def check(dist: int) -> bool:\n",
    "    prev = x[0]\n",
    "    count = 1\n",
    "    \n",
    "    for i in range(1, len(x)):\n",
    "        if x[i] - prev >= dist:\n",
    "            prev = x[i]  # 공유기를 설치한다!\n",
    "            count += 1\n",
    "            if count >= C:\n",
    "                return True\n",
    "    \n",
    "    return False\n",
    "\n",
    "\n",
    "l = 1\n",
    "r = x[-1]\n",
    "ans = None\n",
    "\n",
    "while l <= r:\n",
    "    mid = (l + r) // 2\n",
    "    \n",
    "    if check(mid):\n",
    "        ans = mid\n",
    "        l = mid + 1\n",
    "    else:\n",
    "        r = mid - 1\n",
    "\n",
    "print(ans)\n",
    "    "
   ]
  }
 ],
 "metadata": {
  "kernelspec": {
   "display_name": "Python 3",
   "language": "python",
   "name": "python3"
  },
  "language_info": {
   "codemirror_mode": {
    "name": "ipython",
    "version": 3
   },
   "file_extension": ".py",
   "mimetype": "text/x-python",
   "name": "python",
   "nbconvert_exporter": "python",
   "pygments_lexer": "ipython3",
   "version": "3.9.13"
  }
 },
 "nbformat": 4,
 "nbformat_minor": 2
}
