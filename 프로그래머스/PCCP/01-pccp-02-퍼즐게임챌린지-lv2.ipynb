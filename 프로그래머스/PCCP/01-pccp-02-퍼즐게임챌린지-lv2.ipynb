{
 "cells": [
  {
   "cell_type": "code",
   "execution_count": 1,
   "metadata": {},
   "outputs": [],
   "source": [
    "tc1 = [\t[1, 5, 3], [2, 4, 7], 30]\n",
    "sol1 = 3\n",
    "\n",
    "tc2 = [[1, 4, 4, 2], [6, 3, 8, 2], 59]\n",
    "sol2 = 2\n",
    "\n",
    "tc3 = [[1, 328, 467, 209, 54], [2, 7, 1, 4, 3], 1723]\n",
    "sol3 = 294\n",
    "\n",
    "tc4 = [[1, 99999, 100000, 99995], [9999, 9001, 9999, 9001], 3456789012]\n",
    "sol4 = 39354\n"
   ]
  },
  {
   "cell_type": "code",
   "execution_count": 2,
   "metadata": {},
   "outputs": [
    {
     "name": "stdout",
     "output_type": "stream",
     "text": [
      "정답!\n",
      "정답!\n",
      "정답!\n",
      "정답!\n"
     ]
    }
   ],
   "source": [
    "def solution(diffs, times, limit):\n",
    "    answer = 0\n",
    "    \n",
    "    l = 1\n",
    "    r = max(diffs)\n",
    "    result = r\n",
    "    \n",
    "    def get_total_time(level):\n",
    "        \n",
    "        total_time = 0\n",
    "        for i in range(len(diffs)):\n",
    "            if diffs[i] <= level:\n",
    "                total_time += times[i]\n",
    "            else:\n",
    "                total_time += (diffs[i] - level) * (times[i - 1] + times[i]) + times[i]\n",
    "        \n",
    "        return total_time\n",
    "            \n",
    "    \n",
    "    while l <= r:\n",
    "        mid = (l + r) // 2\n",
    "        \n",
    "        total_time = get_total_time(mid)\n",
    "        \n",
    "        if total_time < limit:\n",
    "            result = mid\n",
    "            r = mid - 1\n",
    "        elif total_time > limit:\n",
    "            l = mid + 1\n",
    "        else:\n",
    "            result = mid\n",
    "            break\n",
    "            \n",
    "    answer = result\n",
    "        \n",
    "    \n",
    "    \n",
    "    return answer\n",
    "\n",
    "\n",
    "def expect(sol, answer):\n",
    "    if sol != answer:\n",
    "        print(f\"틀렸음! 정답: {sol}, 하지만 나의 답: {answer}\")\n",
    "    else:\n",
    "        print(\"정답!\")\n",
    "        \n",
    "\n",
    "expect(sol1, solution(tc1[0], tc1[1], tc1[2]))\n",
    "expect(sol2, solution(tc2[0], tc2[1], tc2[2]))\n",
    "expect(sol3, solution(tc3[0], tc3[1], tc3[2]))\n",
    "expect(sol4, solution(tc4[0], tc4[1], tc4[2]))"
   ]
  }
 ],
 "metadata": {
  "kernelspec": {
   "display_name": "base",
   "language": "python",
   "name": "python3"
  },
  "language_info": {
   "codemirror_mode": {
    "name": "ipython",
    "version": 3
   },
   "file_extension": ".py",
   "mimetype": "text/x-python",
   "name": "python",
   "nbconvert_exporter": "python",
   "pygments_lexer": "ipython3",
   "version": "3.9.13"
  }
 },
 "nbformat": 4,
 "nbformat_minor": 2
}
